{
  "nbformat": 4,
  "nbformat_minor": 0,
  "metadata": {
    "colab": {
      "name": "Nanterre_Modoap_detection_illustrations_inference.ipynb",
      "provenance": [],
      "collapsed_sections": []
    },
    "kernelspec": {
      "name": "python3",
      "display_name": "Python 3"
    }
  },
  "cells": [
    {
      "cell_type": "markdown",
      "metadata": {
        "id": "x1em4rMcjcR_"
      },
      "source": [
        "# ***MODOAP - Détection et extraction d'illustrations dans les pages de journaux / manuels / magazines***"
      ]
    },
    {
      "cell_type": "markdown",
      "metadata": {
        "id": "lmlpWXAKJlb3"
      },
      "source": [
        "\n",
        "Ce script permet d'utiliser l'algorithme Mask-RCNN pour détecter et extraire les illustrations dans les pages d'un corpus spécifié. \n",
        "Il requiert :\n",
        "  - des poids issus de l'entraînement préalable d'un modèle sur un corpus particulier\n",
        "  - un corpus de journaux / manuels sur lequel opérer la détection"
      ]
    },
    {
      "cell_type": "markdown",
      "metadata": {
        "id": "ihzf5ih94aWu"
      },
      "source": [
        "## 0. Connexion à un compte Google Drive et création de l'architecture\n",
        "\n",
        "Nécessite de se connecter à son compte Google Drive et d'entrer un code de vérification.\n",
        "\n",
        "Crée un dossier Outils_Modoap sur le Drive qui servira à stocker les poids utilisés et les objets extraits."
      ]
    },
    {
      "cell_type": "code",
      "metadata": {
        "id": "iUDVw_8w7hrb"
      },
      "source": [
        "import os\n",
        "from google.colab import drive\n",
        "\n",
        "if not os.path.exists(\"/content/drive/My Drive\"):\n",
        "  drive.mount('/content/drive')\n",
        "else : print(\"Le Drive est déjà monté\")\n",
        "\n",
        "if not os.path.exists(\"/content/drive/My Drive/Outils_Modoap/Detection_Illustrations/Illustrations_extraites\"):\n",
        "  os.makedirs('/content/drive/My Drive/Outils_Modoap/Detection_Illustrations/Illustrations_extraites')\n",
        "if not os.path.exists(\"/content/drive/My Drive/Outils_Modoap/Detection_Illustrations/Poids\"):\n",
        "  os.makedirs('/content/drive/My Drive/Outils_Modoap/Detection_Illustrations/Poids')\n",
        "  "
      ],
      "execution_count": null,
      "outputs": []
    },
    {
      "cell_type": "markdown",
      "metadata": {
        "id": "X2tGpeGda-WA"
      },
      "source": [
        "## 1. Préparation du corpus et des poids à utiliser\n",
        "\n",
        "Le corpus doit être sous forme d'un dossier contenant les pages des documents au format image.\n",
        "\n",
        "Nécessite d'entrer le chemin absolu vers le dossier contenant le corpus sur le drive. \n",
        "La racine du Google Drive est */content/drive/My Drive/*\n",
        "\n",
        "Possibilité de copier/coller le chemin depuis la fenêtre de gauche : *Files -> clic droit sur un dossier -> Copy Path*\n",
        "\n",
        "Exemple de chemin:\n",
        "\n",
        "/content/drive/My Drive/Corpus/corpus_pour_detection/ \n",
        "\n",
        "Ou bien entrer \"exemple\" pour télécharger un corpus de démonstration.\n",
        "\n",
        "Idem pour les poids : il s'agit d'un fichier .h5 contenu dans un dossier."
      ]
    },
    {
      "cell_type": "code",
      "metadata": {
        "id": "p8b3Ic8as_5P"
      },
      "source": [
        "dossier_corpus = input(\"Entrer le chemin absolu du dossier contenant le corpus, ou taper \\\"exemple\\\" \")\n",
        "if dossier_corpus == \"exemple\" :\n",
        "  print(\"téléchargement d'un corpus de démonstration\")\n",
        "  if not os.path.exists(\"/content/drive/My Drive/Outils_Modoap/Corpus_demonstrations/corpus_illustration\"):\n",
        "    os.makedirs('/content/drive/My Drive/Outils_Modoap/Corpus_demonstrations/corpus_illustration')\n",
        "  %cd /content/drive/My Drive/Outils_Modoap/Corpus_demonstrations/corpus_illustration\n",
        "\n",
        "  !wget https://github.com/cyril521/modoap-seg/raw/master/Datasets/DroitsLibertes_pour_essais_inference/corpus_test_DL1950.zip\n",
        "\n",
        "  !7z x ./corpus_test_DL1950.zip\n",
        "  os.remove(\"/content/drive/My Drive/Outils_Modoap/Corpus_demonstrations/corpus_illustration/corpus_test_DL1950.zip\")\n",
        "  dossier_corpus = \"/content/drive/My Drive/Outils_Modoap/Corpus_demonstrations/corpus_illustration\"\n",
        "\n",
        "poids = input(\"Entrer le chemin absolu du dossier contenant les poids, ou taper \\\"exemple\\\" \")\n",
        "if poids == \"exemple\" : \n",
        "  print(\"téléchargement de poids pour la démonstration\")\n",
        "  %cd /content/drive/My Drive/Outils_Modoap/Detection_Illustrations/Poids\n",
        "  !wget https://github.com/cyril521/modoap-seg/raw/master/Poids/poidsDL.7z.001\n",
        "  !wget https://github.com/cyril521/modoap-seg/raw/master/Poids/poidsDL.7z.002\n",
        "  !wget https://github.com/cyril521/modoap-seg/raw/master/Poids/poidsDL.7z.003\n",
        "  !7z x ./poidsDL.7z.001\n",
        "  os.remove(\"/content/drive/My Drive/Outils_Modoap/Detection_Illustrations/Poids/poidsDL.7z.001\")\n",
        "  os.remove(\"/content/drive/My Drive/Outils_Modoap/Detection_Illustrations/Poids/poidsDL.7z.002\")\n",
        "  os.remove(\"/content/drive/My Drive/Outils_Modoap/Detection_Illustrations/Poids/poidsDL.7z.003\")\n",
        "  poids = \"/content/drive/My Drive/Outils_Modoap/Detection_Illustrations/Poids\""
      ],
      "execution_count": null,
      "outputs": []
    },
    {
      "cell_type": "markdown",
      "metadata": {
        "id": "BymTg7yJe-6y"
      },
      "source": [
        "## 2. Configuration de l'algorithme"
      ]
    },
    {
      "cell_type": "code",
      "metadata": {
        "id": "DN1MrDUc7sS1"
      },
      "source": [
        "import os\n",
        "%cd\n",
        "if not os.path.exists(\"/root/Mask_RCNN\"):\n",
        "\n",
        "  !git clone --quiet https://github.com/matterport/Mask_RCNN.git\n",
        "  %cd /root/Mask_RCNN\n",
        "  !pip install -q PyDrive\n",
        "  !pip install -r requirements.txt\n",
        "  !python setup.py install\n",
        "  !cp ~/Mask_RCNN/samples/balloon/balloon.py ./illustration.py\n",
        "  !sed -i -- 's/balloon/illustration/g' illustration.py\n",
        "  !sed -i -- 's/Balloon/Illustration/g' illustration.py\n",
        " \n",
        "else : print(\"L'algorithme est déjà téléchargé\")\n",
        "\n",
        "%tensorflow_version 1.x\n",
        "!pip install q keras==2.1.5\n",
        "!pip install q keras==2.1.5\n",
        "\n",
        "%cd /root/Mask_RCNN/\n",
        "\n",
        "import os\n",
        "import sys\n",
        "import random\n",
        "import math\n",
        "import numpy as np\n",
        "import skimage.io\n",
        "import matplotlib\n",
        "import matplotlib.pyplot as plt\n",
        "import glob\n",
        "\n",
        "ROOT_DIR = os.path.abspath(\"/\")\n",
        "\n",
        "import warnings\n",
        "warnings.filterwarnings(\"ignore\")\n",
        "\n",
        "sys.path.append(ROOT_DIR) \n",
        "from mrcnn import utils\n",
        "import mrcnn.model as modellib\n",
        "from mrcnn import visualize\n",
        "import illustration\n",
        "\n",
        "IMAGE_DIR = dossier_corpus\n",
        "config = illustration.IllustrationConfig()\n",
        "\n",
        "class InferenceConfig(config.__class__):\n",
        "    GPU_COUNT = 1\n",
        "    IMAGES_PER_GPU = 1\n",
        "\n",
        "config = InferenceConfig()\n",
        "config.display()"
      ],
      "execution_count": null,
      "outputs": []
    },
    {
      "cell_type": "markdown",
      "metadata": {
        "id": "0DGJ4GQwQaX1"
      },
      "source": [
        "# 3. Lancement du modèle en mode Inférence"
      ]
    },
    {
      "cell_type": "code",
      "metadata": {
        "id": "Jqtw_yaq-syn"
      },
      "source": [
        "model = modellib.MaskRCNN(mode=\"inference\", model_dir='mask_rcnn_coco.hy', config=config)\n",
        "fichierpoids = [file for file in glob.glob(poids+\"/*.h5\")][-1]\n",
        "model.load_weights(fichierpoids, by_name=True)"
      ],
      "execution_count": null,
      "outputs": []
    },
    {
      "cell_type": "markdown",
      "metadata": {
        "id": "Ys-CieE6QtGp"
      },
      "source": [
        "## 4. Détection d'illustrations sur le corpus\n",
        "\n",
        "Cette étape peut prendre un certain temps en fonction de la taille du corpus.\n",
        "\n",
        "Génère un fichier .json dans le dossier du corpus contenant les annotations des illustrations"
      ]
    },
    {
      "cell_type": "code",
      "metadata": {
        "id": "QKaDN9cY_nN1"
      },
      "source": [
        "corpus = [image for image in glob.glob(dossier_corpus+\"/*.*\")]\n",
        "class_names = ['BG', 'illustration']\n",
        "import cv2\n",
        "import json\n",
        "dicocorpus = {}\n",
        "\n",
        "for cheminfichier in corpus :\n",
        "  nomfichier = str(cheminfichier.split(\"/\")[-1])\n",
        "  image = cv2.imread(cheminfichier)\n",
        "  results = model.detect([image], verbose=0)\n",
        "  r = results[0]\n",
        "  listeobjets = [vecteur for vecteur in r[\"rois\"]]\n",
        "  dicoimage={}\n",
        "\n",
        "  visualize.display_instances(image, r['rois'], r['masks'], r['class_ids'], \n",
        "                              class_names, r['scores'])\n",
        "\n",
        "  for i in range(len(r[\"rois\"])) :\n",
        "    vecteur_region = [str(coord) for coord in listeobjets[i]]\n",
        "    classe = class_names[r[\"class_ids\"][i]]\n",
        "    score = str(r[\"scores\"][i])\n",
        "    dicoobjet = {\"regions\":vecteur_region, \"classe\" : classe, \"score\":score}\n",
        "    dicoimage[\"objet\"+str(i)] = dicoobjet\n",
        "  dicocorpus[nomfichier] = dicoimage\n",
        "\n",
        "\n",
        "with open(os.path.join(dossier_corpus, \"annotations_illustration.json\"), \"w\") as dic :\n",
        "  json.dump(dicocorpus, dic)"
      ],
      "execution_count": null,
      "outputs": []
    },
    {
      "cell_type": "markdown",
      "metadata": {
        "id": "EMqipuYIRD5J"
      },
      "source": [
        "# 5. Extraction des images en fichiers .jpg\n",
        "\n",
        "Extrait les illustrations détectées dans le dossier /content/drive/My Drive/Outils_Modoap/Detection_Illustrations/Illustrations_extraites/"
      ]
    },
    {
      "cell_type": "code",
      "metadata": {
        "id": "HsAFG0CwQ4nJ"
      },
      "source": [
        "import json\n",
        "\n",
        "with open(os.path.join(dossier_corpus, \"annotations_illustration.json\"), \"r\") as mondic :\n",
        "  dicocorpus2 = json.load(mondic)\n",
        "\n",
        "for nomfichier in dicocorpus2 :\n",
        "  cheminfichier = os.path.join(dossier_corpus, nomfichier)\n",
        "  print(\"chemin fichier :\", cheminfichier)\n",
        "  compteur = 0\n",
        "\n",
        "  image = cv2.imread(cheminfichier)\n",
        "  for objet in dicocorpus2[nomfichier].values():\n",
        "    y1 = int(objet[\"regions\"][0])\n",
        "    y2 = int(objet[\"regions\"][2])\n",
        "    x1 = int(objet[\"regions\"][1])\n",
        "    x2 = int(objet[\"regions\"][3])\n",
        "    imagecropped = image[y1:y2, x1:x2] # [Y1:Y2, X1:X2] Le vecteur est sous forme [Y1 X1 Y2 X2]\n",
        "    cv2.imwrite(\"/content/drive/My Drive/Outils_Modoap/Detection_Illustrations/Illustrations_extraites/\"+nomfichier+\"_objet\"+str(compteur)+\"_\"+objet[\"classe\"]+\".jpg\", imagecropped)\n",
        "    #cv2_imshow(image)\n",
        "    compteur += 1\n",
        "\n"
      ],
      "execution_count": null,
      "outputs": []
    }
  ]
}